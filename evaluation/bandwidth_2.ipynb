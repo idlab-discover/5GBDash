{
 "cells": [
  {
   "cell_type": "code",
   "execution_count": null,
   "metadata": {
    "ExecuteTime": {
     "end_time": "2023-09-15T14:32:15.170395248Z",
     "start_time": "2023-09-15T14:32:14.645462270Z"
    }
   },
   "outputs": [],
   "source": [
    "import pandas as pd\n",
    "import matplotlib.pyplot as plt\n",
    "import numpy as np\n",
    "import os\n",
    "import datetime\n",
    "import tools"
   ]
  },
  {
   "cell_type": "code",
   "execution_count": null,
   "metadata": {
    "ExecuteTime": {
     "end_time": "2023-09-15T14:32:15.947966422Z",
     "start_time": "2023-09-15T14:32:15.170143155Z"
    }
   },
   "outputs": [],
   "source": [
    "experiments = tools.get_all_experiments()"
   ]
  },
  {
   "cell_type": "code",
   "execution_count": null,
   "metadata": {
    "ExecuteTime": {
     "start_time": "2023-09-15T14:32:15.940215080Z"
    }
   },
   "outputs": [],
   "source": [
    "def included_reference(info):\n",
    "    if info['disable_multicast'] == 'True':\n",
    "        return True\n",
    "    return False\n",
    "\n",
    "def included_multicast_experiments_no_fec(info):\n",
    "    if info['disable_multicast'] == 'True':\n",
    "        return False\n",
    "    return info['fec'] == '0'\n",
    "\n",
    "\n",
    "def included_multicast_experiments_fec(info):\n",
    "    if info['disable_multicast'] == 'True':\n",
    "        return False\n",
    "    return info['fec'] != '0'\n",
    "\n",
    "\n",
    "def get(experiments, events, diff=False, bytes_to_bits=True):\n",
    "    df = tools.get_metrics_by_events_from_experiments(experiments, events, align=True, resample='250ms')\n",
    "\n",
    "    if diff:\n",
    "        df = df.diff() / 0.25  # 0.25 seconds (250ms) is the time interval\n",
    "\n",
    "    if bytes_to_bits:\n",
    "        df = df * 8  # 1 byte = 8 bits\n",
    "\n",
    "    # Set negative values to NaN\n",
    "    df = df.mask(df < 0)\n",
    "\n",
    "    # Extract common parts of column names\n",
    "    df.columns = df.columns.str.extract(r'(\\d+)\\s(.+?)(_\\d+)?\\s(.+)')\n",
    "\n",
    "    #df = df[[col for col in df.columns if not np.isnan(col[0])]]\n",
    "\n",
    "    def get_fec(column):\n",
    "        return experiments[int(column)]['info']['fec']\n",
    "\n",
    "    def get_loss(column):\n",
    "        return '{:04.1f}'.format(float(experiments[int(column)]['info']['loss']))\n",
    "\n",
    "    # Rename columns\n",
    "    df.columns = [f\"{'{:02d}'.format(int(col[0]))} - {get_loss(col[0])} - {get_fec(col[0])} - {col[1]}\" for col in df.columns]\n",
    "\n",
    "    # Group the columns with the same name together and calculate the mean\n",
    "    # This takes the mean of the proxies of one experiment\n",
    "    df = df.T.groupby(level=0).mean().T\n",
    "\n",
    "    return df\n",
    "\n",
    "def filter(experiments, df, should_include_func):\n",
    "    def should_include(column):\n",
    "        parts = column.split(' ')\n",
    "        if len(parts) == 0:\n",
    "            return False\n",
    "        i = int(parts[0])\n",
    "        return should_include_func(experiments[i]['info'])\n",
    "    return df[[col for col in df.columns if should_include(col)]]"
   ]
  },
  {
   "cell_type": "code",
   "execution_count": null,
   "metadata": {
    "ExecuteTime": {
     "start_time": "2023-09-15T14:32:15.940707687Z"
    }
   },
   "outputs": [],
   "source": [
    "df_rx = get(experiments, ['bytes_received']) / 1000000\n",
    "df_rx_reference = filter(experiments, df_rx, should_include_func=included_reference)\n",
    "df_rx_no_fec = filter(experiments, df_rx, should_include_func=included_multicast_experiments_no_fec)\n",
    "df_rx_fec = filter(experiments, df_rx, should_include_func=included_multicast_experiments_fec)\n",
    "\n",
    "df_tx = get(experiments, ['bytes_transmitted']) / 1000000\n",
    "df_tx_reference = filter(experiments, df_tx, should_include_func=included_reference)\n",
    "df_tx_no_fec = filter(experiments, df_tx, should_include_func=included_multicast_experiments_no_fec)\n",
    "df_tx_fec = filter(experiments, df_tx, should_include_func=included_multicast_experiments_fec)\n",
    "\n",
    "df_rx_proxy = df_rx.filter(like='proxy') \n",
    "df_rx_proxy_reference = df_rx_reference.filter(like='proxy') \n",
    "df_rx_proxy_no_fec = df_rx_no_fec.filter(like='proxy') \n",
    "df_rx_proxy_fec = df_rx_fec.filter(like='proxy')\n",
    "\n",
    "df_tx_server = df_tx.filter(like='server') \n",
    "df_tx_server_reference = df_tx_reference.filter(like='server') \n",
    "df_tx_server_no_fec = df_tx_no_fec.filter(like='server') \n",
    "df_tx_server_fec = df_tx_fec.filter(like='server') \n",
    "\n",
    "files_fetched = get(experiments, ['files_fetched'])"
   ]
  },
  {
   "cell_type": "code",
   "execution_count": null,
   "metadata": {},
   "outputs": [],
   "source": [
    "df_mc_proxy = df_rx_proxy.filter(like='multicast')\n",
    "df_mc_server = df_tx_server.filter(like='multicast')\n",
    "\n",
    "df_mc = df_rx_proxy.filter(like='multicast').copy()\n",
    "df_mc = df_mc.merge(df_mc_server, how='outer', left_index=True, right_index=True)\n",
    "df_mc_reference = df_rx_proxy_reference.filter(like='multicast').copy()\n",
    "df_mc_reference = df_mc_reference.merge(df_tx_server_reference.filter(like='multicast'), how='outer', left_index=True, right_index=True)\n",
    "df_mc_no_fec = df_rx_proxy_no_fec.filter(like='multicast').copy()\n",
    "df_mc_no_fec = df_mc_no_fec.merge(df_tx_server_no_fec.filter(like='multicast'), how='outer', left_index=True, right_index=True)\n",
    "df_mc_fec = df_rx_proxy_fec.filter(like='multicast').copy()\n",
    "df_mc_fec = df_mc_fec.merge(df_tx_server_fec.filter(like='multicast'), how='outer', left_index=True, right_index=True)\n",
    "\n",
    "df_uc_proxy = df_rx_proxy.filter(like='unicast')\n",
    "df_uc_server = df_tx_server.filter(like='unicast')\n",
    "\n",
    "df_uc = df_uc_proxy.copy()\n",
    "df_uc = df_uc.merge(df_uc_server, how='outer', left_index=True, right_index=True)\n",
    "df_uc_reference = df_rx_proxy_reference.filter(like='unicast').copy()\n",
    "df_uc_reference = df_uc_reference.merge(df_tx_server_reference.filter(like='unicast'), how='outer', left_index=True, right_index=True)\n",
    "df_uc_no_fec = df_rx_proxy_no_fec.filter(like='unicast').copy()\n",
    "df_uc_no_fec = df_uc_no_fec.merge(df_tx_server_no_fec.filter(like='unicast'), how='outer', left_index=True, right_index=True)\n",
    "df_uc_fec = df_rx_proxy_fec.filter(like='unicast').copy()\n",
    "df_uc_fec = df_uc_fec.merge(df_tx_server_fec.filter(like='unicast'), how='outer', left_index=True, right_index=True)"
   ]
  },
  {
   "cell_type": "code",
   "execution_count": null,
   "metadata": {},
   "outputs": [],
   "source": [
    "tools.plot_data(df_mc_server, title='Multicast Mb', figsize=(30,7), ylabel='Mb')\n",
    "tools.plot_data(df_uc_server, title='Unicast Mb', figsize=(30,7), ylabel='Mb')\n"
   ]
  },
  {
   "cell_type": "code",
   "execution_count": null,
   "metadata": {},
   "outputs": [],
   "source": [
    "def take_window(df, df_total):\n",
    "    temp = df_total.mask(df_total < 0)\n",
    "    earliest_row = temp.idxmin().min()\n",
    "    last_row = temp.idxmax().min()\n",
    "    return df[earliest_row:last_row]\n",
    "\n",
    "df2 = take_window(df_tx_server.filter(like='multicast'), df_tx_server.filter(like='multicast'))\n",
    "df3 = take_window(df_rx_proxy.filter(like='multicast'), df_rx_proxy.filter(like='multicast'))\n",
    "\n",
    "# Create a new series to store the results\n",
    "series3 = pd.Series()\n",
    "\n",
    "# Find the last experiment number\n",
    "max_num = pd.Series(df3.index).str.extract(\"\\['(\\d+)',\").astype(int).max()\n",
    "# Loop through the odd numbers from 1 to 11\n",
    "for i in range(1, max_num.values[0], 2):\n",
    "    # Get the corresponding even number\n",
    "    j = i + 1\n",
    "    # Get the experiment names from the series\n",
    "    exp1 = f\"'{i}', 'proxy_interface_multicast']\"\n",
    "    exp2 = f\"'{j}', 'proxy_interface_multicast']\"\n",
    "    # Calculate the value using the formula\n",
    "    value = df3[exp2] / df2[exp1] - 1\n",
    "    # Add the value to the new series with the experiment name\n",
    "    series3[exp1] = f\"{df2[exp1]:.3f} Mbps\"\n",
    "    series3[exp2] = f\"{df3[exp2]:.3f} Mbps\"\n",
    "    series3[f\"Exp {j} / Exp {i}\"] = f\"{value * 100:.2f} %\"\n",
    "\n",
    "\n",
    "series3"
   ]
  },
  {
   "cell_type": "code",
   "execution_count": null,
   "metadata": {},
   "outputs": [],
   "source": [
    "\n",
    "tools.plot_data(df_rx_proxy.filter(like='multicast') / 1000000, title='Multicast Mb', figsize=(30,7), ylabel='Mb')\n",
    "tools.plot_data(df_tx_server.filter(like='multicast') / 1000000, title='Multicast Mb', figsize=(30,7), ylabel='Mb')"
   ]
  }
 ],
 "metadata": {
  "kernelspec": {
   "display_name": "Python 3",
   "language": "python",
   "name": "python3"
  },
  "language_info": {
   "codemirror_mode": {
    "name": "ipython",
    "version": 3
   },
   "file_extension": ".py",
   "mimetype": "text/x-python",
   "name": "python",
   "nbconvert_exporter": "python",
   "pygments_lexer": "ipython3",
   "version": "3.10.12"
  },
  "orig_nbformat": 4
 },
 "nbformat": 4,
 "nbformat_minor": 2
}
