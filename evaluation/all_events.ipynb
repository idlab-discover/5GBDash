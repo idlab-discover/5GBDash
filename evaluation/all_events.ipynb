{
 "cells": [
  {
   "cell_type": "code",
   "execution_count": null,
   "metadata": {},
   "outputs": [],
   "source": [
    "import pandas as pd\n",
    "import matplotlib.pyplot as plt\n",
    "import os\n",
    "import datetime\n",
    "import tools"
   ]
  },
  {
   "cell_type": "code",
   "execution_count": null,
   "metadata": {},
   "outputs": [],
   "source": [
    "directory = tools.get_latest_dir()\n",
    "# directory = \"1706486114\""
   ]
  },
  {
   "cell_type": "code",
   "execution_count": null,
   "metadata": {},
   "outputs": [],
   "source": [
    "dfs = tools.get_all_data(directory, resample=True, align=True)\n",
    "start, end = tools.get_start_and_end(dfs)\n",
    "events = tools.get_all_events(dfs)\n",
    "info = tools.read_info(directory)\n",
    "info"
   ]
  },
  {
   "cell_type": "code",
   "execution_count": null,
   "metadata": {},
   "outputs": [],
   "source": [
    "# Add 20 seconds to start time to get rid of the first 20 seconds of data\n",
    "start2 = start + datetime.timedelta(seconds=20)\n",
    "# Remove 20 seconds from end time to get rid of the last 20 seconds of data\n",
    "end2 = end - datetime.timedelta(seconds=15)\n",
    "print(start2, end2)"
   ]
  },
  {
   "cell_type": "code",
   "execution_count": null,
   "metadata": {},
   "outputs": [],
   "source": [
    "event = 'live_latency'\n",
    "data = tools.get_metrics_by_events(dfs, [event], interpolate=True)\n",
    "print(event)\n",
    "tools.plot_data(data, title=event, ylabel=None, start_time=start2, end_time=end2, figsize=(10,3), linewidth=3.5, legend=False)"
   ]
  },
  {
   "cell_type": "code",
   "execution_count": null,
   "metadata": {},
   "outputs": [],
   "source": [
    "for event in sorted(events):\n",
    "    data = tools.get_metrics_by_events(dfs, [event], interpolate=True)\n",
    "    print(event)\n",
    "    tools.plot_data(data, title=event, ylabel=None, start_time=start, end_time=end, figsize=(30,7))"
   ]
  }
 ],
 "metadata": {
  "kernelspec": {
   "display_name": "Python 3",
   "language": "python",
   "name": "python3"
  },
  "language_info": {
   "codemirror_mode": {
    "name": "ipython",
    "version": 3
   },
   "file_extension": ".py",
   "mimetype": "text/x-python",
   "name": "python",
   "nbconvert_exporter": "python",
   "pygments_lexer": "ipython3",
   "version": "3.10.12"
  },
  "orig_nbformat": 4
 },
 "nbformat": 4,
 "nbformat_minor": 2
}
