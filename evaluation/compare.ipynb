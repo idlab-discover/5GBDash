{
 "cells": [
  {
   "cell_type": "code",
   "execution_count": null,
   "metadata": {},
   "outputs": [],
   "source": [
    "import pandas as pd\n",
    "import matplotlib.pyplot as plt\n",
    "import os\n",
    "import datetime\n",
    "import tools"
   ]
  },
  {
   "cell_type": "code",
   "execution_count": null,
   "metadata": {},
   "outputs": [],
   "source": [
    "experiments = tools.get_all_experiments(align=True)"
   ]
  },
  {
   "cell_type": "code",
   "execution_count": null,
   "metadata": {},
   "outputs": [],
   "source": [
    "def select_experiments(experiment_ids):\n",
    "    result = []\n",
    "    for experiment in experiments:\n",
    "        if experiment['id'] in str(experiment_ids):\n",
    "            result.append(experiment)\n",
    "\n",
    "    return result"
   ]
  },
  {
   "cell_type": "code",
   "execution_count": null,
   "metadata": {},
   "outputs": [],
   "source": [
    "selected = select_experiments([0, 1, 2, 11, 12])\n",
    "\n",
    "events = tools.get_all_events(experiments[-1]['dfs'])\n",
    "\n",
    "for event in sorted(events):\n",
    "    data = tools.get_metrics_by_events_from_experiments(selected, [event], align=True, resample='250ms')\n",
    "    print(event)\n",
    "    tools.plot_data(data, title=event, ylabel=None, figsize=(30,7))"
   ]
  }
 ],
 "metadata": {
  "kernelspec": {
   "display_name": "Python 3",
   "language": "python",
   "name": "python3"
  },
  "language_info": {
   "codemirror_mode": {
    "name": "ipython",
    "version": 3
   },
   "file_extension": ".py",
   "mimetype": "text/x-python",
   "name": "python",
   "nbconvert_exporter": "python",
   "pygments_lexer": "ipython3",
   "version": "3.10.12"
  },
  "orig_nbformat": 4
 },
 "nbformat": 4,
 "nbformat_minor": 2
}
