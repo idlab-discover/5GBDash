{
 "cells": [
  {
   "cell_type": "code",
   "execution_count": null,
   "metadata": {},
   "outputs": [],
   "source": [
    "import pandas as pd\n",
    "import numpy as np\n",
    "import matplotlib.pyplot as plt\n",
    "import os\n",
    "import datetime\n",
    "import tools\n",
    "import re"
   ]
  },
  {
   "cell_type": "code",
   "execution_count": null,
   "metadata": {},
   "outputs": [],
   "source": [
    "directory = tools.get_latest_dir()"
   ]
  },
  {
   "cell_type": "code",
   "execution_count": null,
   "metadata": {},
   "outputs": [],
   "source": [
    "dfs = tools.get_all_data(directory, resample=False, align=False, interpolate=True)\n",
    "start, end = tools.get_start_and_end(dfs)\n",
    "events = tools.get_all_events(dfs)\n",
    "info = tools.read_info(directory)\n",
    "info"
   ]
  },
  {
   "cell_type": "code",
   "execution_count": null,
   "metadata": {},
   "outputs": [],
   "source": [
    "missing_files_df = tools.get_metrics_by_events(dfs, ['multicast_files_sent', 'multicast_files_received'])\n",
    "missing_files_df = missing_files_df.fillna(method='ffill').fillna(0)\n",
    "missing_files_df = missing_files_df.apply(np.floor)\n",
    "# Iterate over the columns and create missing_files columns for each proxy\n",
    "multicast_files_received_pattern = re.compile(r'^proxy_multicast_\\d+ multicast_files_received$')\n",
    "for column in missing_files_df.columns:\n",
    "    if multicast_files_received_pattern.match(column):\n",
    "        proxy_id = column.split(' ')[0].split('_')[-1]\n",
    "        missing_files_column = f'proxy_{proxy_id} missing_files'\n",
    "        missing_files_df[missing_files_column] = missing_files_df['server_multicast multicast_files_sent'] - missing_files_df[column]\n",
    "tools.plot_data(missing_files_df, title='Missing files', start_time=start, end_time=end, figsize=(30,7))"
   ]
  },
  {
   "cell_type": "code",
   "execution_count": null,
   "metadata": {},
   "outputs": [],
   "source": [
    "emissions_df = tools.get_metrics_by_events(dfs, ['emit_missing_symbols'])\n",
    "emissions_df = emissions_df.fillna(method='ffill').fillna(0)\n",
    "emissions_df = emissions_df.apply(np.floor)\n",
    "\n",
    "emist_missing_symbols_pattern = re.compile(r'^proxy_multicast_\\d+ emit_missing_symbols$')\n",
    "for column in emissions_df.columns:\n",
    "    if emist_missing_symbols_pattern.match(column):\n",
    "        emissions_df[column + ' diff'] = emissions_df[column].diff()\n",
    "emissions_df = emissions_df.fillna(method='ffill').fillna(0)\n",
    "\n",
    "tools.plot_data(emissions_df, title='Missing files emissions', start_time=start, end_time=end, figsize=(30,7))"
   ]
  },
  {
   "cell_type": "code",
   "execution_count": null,
   "metadata": {},
   "outputs": [],
   "source": [
    "diff_pattern = re.compile(r'^proxy_multicast_\\d+ emit_missing_symbols diff$')\n",
    "emissions_diff_columns = [column for column in emissions_df.columns if diff_pattern.match(column)]\n",
    "recovery_latency_df = emissions_df[emissions_diff_columns]\n",
    "\n",
    "# Iterate over the columns and create missing_files columns for each proxy\n",
    "missing_files_pattern = re.compile(r'^proxy_\\d+ missing_files$')\n",
    "missing_files_columns = [column for column in missing_files_df.columns if missing_files_pattern.match(column)]\n",
    "recovery_latency_df = recovery_latency_df.join(missing_files_df[missing_files_columns])\n",
    "\n",
    "recovery_latency_df = recovery_latency_df.sort_values(by='timestamp')\n",
    "recovery_latency_df = recovery_latency_df.apply(pd.to_numeric, errors='ignore')\n",
    "recovery_latency_df.interpolate(inplace=True)\n",
    "recovery_latency_df = recovery_latency_df.fillna(method='ffill').fillna(0)\n",
    "recovery_latency_df = recovery_latency_df.apply(np.floor)\n",
    "\n",
    "tools.plot_data(recovery_latency_df, title='Recovery latency', start_time=start, end_time=end, figsize=(30,7))"
   ]
  },
  {
   "cell_type": "markdown",
   "metadata": {},
   "source": [
    "Note: time between an increase in emit_missing_symbols and a decrease of missing_files increases with the latency. This is logical as increased latency not only affects slow multicast but also slow recovery of missing symbols over http."
   ]
  },
  {
   "cell_type": "code",
   "execution_count": null,
   "metadata": {},
   "outputs": [],
   "source": [
    "fetcher_latency = tools.get_metrics_by_events(dfs, ['fetcher_latency']).div(1000000000).round(3)\n",
    "fetcher_latency = fetcher_latency[fetcher_latency != 0]\n",
    "tools.plot_data(fetcher_latency, title='Recovery latency in seconds', start_time=start, end_time=end, figsize=(30,7))\n",
    "means = fetcher_latency.mean().round(3)\n",
    "print(means)\n",
    "print(f'Average Recovery latency of all proxies: {means.mean().round(3)}')"
   ]
  },
  {
   "cell_type": "code",
   "execution_count": null,
   "metadata": {},
   "outputs": [],
   "source": [
    "fetcher_latency = tools.get_metrics_by_events(dfs, ['partial_processing_duration']).div(1000000).round(3)\n",
    "tools.plot_data(fetcher_latency, title='Processing time of http server for partial requests in seconds', start_time=start, end_time=end, figsize=(30,7))\n",
    "fetcher_latency.mean().round(3)"
   ]
  }
 ],
 "metadata": {
  "kernelspec": {
   "display_name": "Python 3",
   "language": "python",
   "name": "python3"
  },
  "language_info": {
   "codemirror_mode": {
    "name": "ipython",
    "version": 3
   },
   "file_extension": ".py",
   "mimetype": "text/x-python",
   "name": "python",
   "nbconvert_exporter": "python",
   "pygments_lexer": "ipython3",
   "version": "3.10.12"
  },
  "orig_nbformat": 4
 },
 "nbformat": 4,
 "nbformat_minor": 2
}
